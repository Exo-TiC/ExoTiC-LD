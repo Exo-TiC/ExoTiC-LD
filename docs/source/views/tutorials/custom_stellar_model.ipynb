{
 "cells": [
  {
   "cell_type": "markdown",
   "id": "fe5eccf8",
   "metadata": {},
   "source": [
    "# Use a custom stellar model\n",
    "\n",
    "In this tutorial we take a look at how to use a custom stellar model.\n",
    "\n",
    "Let us mock up some stellar data."
   ]
  },
  {
   "cell_type": "code",
   "execution_count": 1,
   "id": "b4f79f22",
   "metadata": {},
   "outputs": [
    {
     "name": "stdout",
     "output_type": "stream",
     "text": [
      "(1000,)\n",
      "(20,)\n",
      "(1000, 20)\n"
     ]
    }
   ],
   "source": [
    "import numpy as np\n",
    "\n",
    "\n",
    "\n",
    "def generate_synthetic_stellar_models(n_wvs=1000, n_mus=20):\n",
    "    # Generate I(lambda, mu).\n",
    "    wvs = np.linspace(0.01e-6, 50e-6, n_wvs)\n",
    "    mus = np.linspace(1., 0.01, n_mus)\n",
    "    temps = np.linspace(5000., 4500., n_mus)\n",
    "    stellar_intensity = []\n",
    "    for mu, temp in zip(mus, temps):\n",
    "        stellar_intensity.append(plancks_law(wvs, temp))\n",
    "    return wvs * 1.e10, mus, np.array(stellar_intensity).T\n",
    "\n",
    "def plancks_law(wav, temp):\n",
    "    a = 2.0 * 6.62607004e-34 * 2.99792458e8**2\n",
    "    b = 6.62607004e-34 * 2.99792458e8 / (wav * 1.38064852e-23 * temp)\n",
    "    intensity = a / (wav**5 * (np.exp(b) - 1.0))\n",
    "    return intensity\n",
    "\n",
    "\n",
    "s_wvs, s_mus, stellar_intensity = generate_synthetic_stellar_models()\n",
    "\n",
    "print(s_wvs.shape)\n",
    "print(s_mus.shape)\n",
    "print(stellar_intensity.shape)"
   ]
  },
  {
   "cell_type": "markdown",
   "id": "d2e99bc2",
   "metadata": {},
   "source": [
    "With this data in hand, you can run the code as follows."
   ]
  },
  {
   "cell_type": "code",
   "execution_count": 2,
   "id": "101e7d56",
   "metadata": {},
   "outputs": [
    {
     "name": "stdout",
     "output_type": "stream",
     "text": [
      "(0.0005949930583144949, 0.16760039051680015, 0.0026860142027271758, 0.0012534501563158235)\n"
     ]
    }
   ],
   "source": [
    "import os\n",
    "from exotic_ld import StellarLimbDarkening\n",
    "\n",
    "\n",
    "sld = StellarLimbDarkening(ld_data_path=\"exotic_ld_data\",\n",
    "                           ld_model=\"custom\", \n",
    "                           custom_wavelengths=s_wvs,\n",
    "                           custom_mus=s_mus, \n",
    "                           custom_stellar_model=stellar_intensity)\n",
    "cs = sld.compute_4_parameter_non_linear_ld_coeffs(wavelength_range=[20000., 30000.],\n",
    "                                                  mode=\"JWST_NIRSpec_Prism\")\n",
    "print(cs)"
   ]
  }
 ],
 "metadata": {
  "kernelspec": {
   "display_name": "Python 3 (ipykernel)",
   "language": "python",
   "name": "python3"
  },
  "language_info": {
   "codemirror_mode": {
    "name": "ipython",
    "version": 3
   },
   "file_extension": ".py",
   "mimetype": "text/x-python",
   "name": "python",
   "nbconvert_exporter": "python",
   "pygments_lexer": "ipython3",
   "version": "3.9.16"
  }
 },
 "nbformat": 4,
 "nbformat_minor": 5
}
